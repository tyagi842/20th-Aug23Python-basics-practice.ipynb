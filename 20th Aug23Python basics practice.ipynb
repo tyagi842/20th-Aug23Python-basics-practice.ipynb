{
 "cells": [
  {
   "cell_type": "code",
   "execution_count": 1,
   "id": "0b60092e-16a4-4ce1-9a5a-b60204c35e86",
   "metadata": {},
   "outputs": [],
   "source": [
    "# Q-1 # Write a program to reverse a string."
   ]
  },
  {
   "cell_type": "code",
   "execution_count": 5,
   "id": "a5a0c022-c894-4710-97f2-a1b81ea07f57",
   "metadata": {},
   "outputs": [
    {
     "name": "stdin",
     "output_type": "stream",
     "text": [
      "Enter a string:  pwskills\n"
     ]
    },
    {
     "name": "stdout",
     "output_type": "stream",
     "text": [
      "Reversed string: sllikswp\n"
     ]
    }
   ],
   "source": [
    "# Input a string from the user\n",
    "original_string = input(\"Enter a string: \")\n",
    "\n",
    "# Reverse the string using slicing\n",
    "reversed_string = original_string[::-1]\n",
    "\n",
    "# Print the reversed string\n",
    "print(\"Reversed string:\", reversed_string)"
   ]
  },
  {
   "cell_type": "code",
   "execution_count": null,
   "id": "df847e7d-8630-4ac3-84a4-96abb5040608",
   "metadata": {},
   "outputs": [],
   "source": [
    "# Q-2# Check if a string is a palindrome."
   ]
  },
  {
   "cell_type": "code",
   "execution_count": 6,
   "id": "bb4e8276-a7f4-4491-b4ac-4ce8d8e7d957",
   "metadata": {},
   "outputs": [
    {
     "name": "stdin",
     "output_type": "stream",
     "text": [
      "Enter a string:  harsh\n"
     ]
    },
    {
     "name": "stdout",
     "output_type": "stream",
     "text": [
      "The input string is not a palindrome.\n"
     ]
    }
   ],
   "source": [
    "# Input a string from the user\n",
    "input_string = input(\"Enter a string: \")\n",
    "\n",
    "# Remove spaces and convert to lowercase for case-insensitive comparison\n",
    "input_string = input_string.replace(\" \", \"\").lower()\n",
    "\n",
    "# Reverse the string\n",
    "reversed_string = input_string[::-1]\n",
    "\n",
    "# Check if the original and reversed strings are the same\n",
    "if input_string == reversed_string:\n",
    "    print(\"The input string is a palindrome.\")\n",
    "else:\n",
    "    print(\"The input string is not a palindrome.\")\n"
   ]
  },
  {
   "cell_type": "code",
   "execution_count": null,
   "id": "fea9d132-4277-4a12-b864-77d0c8e7dae7",
   "metadata": {},
   "outputs": [],
   "source": [
    "# Q-3# Convert a string to uppercase."
   ]
  },
  {
   "cell_type": "code",
   "execution_count": 7,
   "id": "4b79a367-7645-4481-b13c-d6c32763b694",
   "metadata": {},
   "outputs": [
    {
     "name": "stdin",
     "output_type": "stream",
     "text": [
      "Enter a string:  pwsills\n"
     ]
    },
    {
     "name": "stdout",
     "output_type": "stream",
     "text": [
      "Uppercase string: PWSILLS\n"
     ]
    }
   ],
   "source": [
    "# Input a string from the user\n",
    "input_string = input(\"Enter a string: \")\n",
    "\n",
    "# Convert the string to uppercase using the upper() method\n",
    "uppercase_string = input_string.upper()\n",
    "\n",
    "# Print the uppercase string\n",
    "print(\"Uppercase string:\", uppercase_string)"
   ]
  },
  {
   "cell_type": "code",
   "execution_count": null,
   "id": "f3c992bd-3db3-44e7-877c-40ef224348d8",
   "metadata": {},
   "outputs": [],
   "source": [
    "# Q-4# Convert a string to lowercase."
   ]
  },
  {
   "cell_type": "code",
   "execution_count": 25,
   "id": "1e5ad9b9-1fa5-440d-bafa-44aadf474055",
   "metadata": {},
   "outputs": [
    {
     "name": "stdin",
     "output_type": "stream",
     "text": [
      "Enter a string:  HARSHTYAGI\n"
     ]
    },
    {
     "name": "stdout",
     "output_type": "stream",
     "text": [
      "Uppercase string: harshtyagi\n"
     ]
    }
   ],
   "source": [
    "# Input a string from the user\n",
    "input_string = input(\"Enter a string: \")\n",
    "\n",
    "# Convert the string to lowercase using the lower() method\n",
    "lowercase_string = input_string.lower()\n",
    "\n",
    "# Print the uppercase string\n",
    "print(\"Uppercase string:\", lowercase_string)"
   ]
  },
  {
   "cell_type": "code",
   "execution_count": null,
   "id": "e168f658-8ae9-42f5-b595-881a402ab155",
   "metadata": {},
   "outputs": [],
   "source": [
    "# Q-5# Check if a string is a valid email address."
   ]
  },
  {
   "cell_type": "code",
   "execution_count": 12,
   "id": "f524e0d9-795c-4261-9904-1d172e393af6",
   "metadata": {},
   "outputs": [
    {
     "name": "stdin",
     "output_type": "stream",
     "text": [
      "Enter an email address:  tyagiharsh842@gmail.com\n"
     ]
    },
    {
     "name": "stdout",
     "output_type": "stream",
     "text": [
      "The email address is valid.\n"
     ]
    }
   ],
   "source": [
    "import re\n",
    "\n",
    "# Function to check if a string is a valid email address\n",
    "def is_valid_email(email):\n",
    "    # Regular expression for a basic email address format\n",
    "    email_pattern = r'^[\\w\\.-]+@[\\w\\.-]+$'\n",
    "    \n",
    "    # Use the re.match() function to check if the email matches the pattern\n",
    "    if re.match(email_pattern, email):\n",
    "        return True\n",
    "    else:\n",
    "        return False\n",
    "\n",
    "# Input an email address from the user\n",
    "email = input(\"Enter an email address: \")\n",
    "\n",
    "# Check if the email is valid\n",
    "if is_valid_email(email):\n",
    "    print(\"The email address is valid.\")\n",
    "else:\n",
    "    print(\"The email address is not valid.\")\n"
   ]
  },
  {
   "cell_type": "code",
   "execution_count": 13,
   "id": "8a478154-0970-4d0f-9ec6-5340bfa9a452",
   "metadata": {},
   "outputs": [],
   "source": [
    "# Q-6# Extract the username from an email address string."
   ]
  },
  {
   "cell_type": "code",
   "execution_count": 15,
   "id": "b77625a7-f04c-420f-976e-50c9a10abce0",
   "metadata": {},
   "outputs": [
    {
     "name": "stdin",
     "output_type": "stream",
     "text": [
      "Enter an email address:  tyagiharsh842@gmail.com\n"
     ]
    },
    {
     "name": "stdout",
     "output_type": "stream",
     "text": [
      "The username is: tyagiharsh842\n"
     ]
    }
   ],
   "source": [
    "# Input an email address from the user\n",
    "email = input(\"Enter an email address: \")\n",
    "\n",
    "# Split the email address using \"@\" as the delimiter\n",
    "parts = email.split(\"@\")\n",
    "\n",
    "# Check if the email address contains only one \"@\" symbol (valid email)\n",
    "if len(parts) == 2:\n",
    "    username = parts[0]\n",
    "    print(f\"The username is: {username}\")\n",
    "else:\n",
    "    print(\"Invalid email address. It should contain exactly one '@' symbol.\")\n"
   ]
  },
  {
   "cell_type": "code",
   "execution_count": null,
   "id": "4d238ac7-91f2-470f-97e8-bb3da16363f0",
   "metadata": {},
   "outputs": [],
   "source": [
    "# Q-7# Check if a string contains only digits."
   ]
  },
  {
   "cell_type": "code",
   "execution_count": 20,
   "id": "2de0a1f7-e796-4055-bf9b-8d28c6c544b5",
   "metadata": {},
   "outputs": [
    {
     "name": "stdin",
     "output_type": "stream",
     "text": [
      "Enter a string:  5478944\n"
     ]
    },
    {
     "name": "stdout",
     "output_type": "stream",
     "text": [
      "The string contains only digits.\n"
     ]
    }
   ],
   "source": [
    "# Input a string from the user\n",
    "input_string = input(\"Enter a string: \")\n",
    "\n",
    "# Check if the string contains only digits\n",
    "if input_string.isdigit():\n",
    "    print(\"The string contains only digits.\")\n",
    "else:\n",
    "    print(\"The string does not contain only digits.\")\n"
   ]
  },
  {
   "cell_type": "code",
   "execution_count": null,
   "id": "e6f0b515-463f-43e4-ac06-14ec9caa13a1",
   "metadata": {},
   "outputs": [],
   "source": [
    "# Q-8# Find the maximum value in a list."
   ]
  },
  {
   "cell_type": "code",
   "execution_count": 21,
   "id": "beb256f7-825b-4fc3-a62c-6497a0661620",
   "metadata": {},
   "outputs": [
    {
     "name": "stdout",
     "output_type": "stream",
     "text": [
      "The maximum value in the list is: 89\n"
     ]
    }
   ],
   "source": [
    "# Define a list of numbers\n",
    "numbers = [12, 45, 67, 23, 89, 34, 56]\n",
    "\n",
    "# Find the maximum value in the list using the max() function\n",
    "maximum_value = max(numbers)\n",
    "\n",
    "# Print the maximum value\n",
    "print(\"The maximum value in the list is:\", maximum_value)\n",
    "\n"
   ]
  },
  {
   "cell_type": "code",
   "execution_count": 22,
   "id": "2f0a56df-6a44-4544-a8f5-34d4ded9f25d",
   "metadata": {},
   "outputs": [],
   "source": [
    "# Q-9# Find the minimum value in a list."
   ]
  },
  {
   "cell_type": "code",
   "execution_count": 24,
   "id": "90f6536b-758e-4186-ae54-382a19c5ca7f",
   "metadata": {},
   "outputs": [
    {
     "name": "stdout",
     "output_type": "stream",
     "text": [
      "The minimum value in the list is: 12\n"
     ]
    }
   ],
   "source": [
    "# Define a list of numbers\n",
    "numbers = [12, 45, 67, 23, 89, 34, 56]\n",
    "\n",
    "# Find the maximum value in the list using the min() function\n",
    "minimum_value = min(numbers)\n",
    "\n",
    "# Print the maximum value\n",
    "print(\"The minimum value in the list is:\", minimum_value)\n"
   ]
  },
  {
   "cell_type": "code",
   "execution_count": null,
   "id": "3a570e15-c164-4f04-b1ce-ccba4f4e6243",
   "metadata": {},
   "outputs": [],
   "source": [
    "# Q-10# Merge two lists."
   ]
  },
  {
   "cell_type": "code",
   "execution_count": 26,
   "id": "8b701024-38db-4709-8b22-cc128b53c2f3",
   "metadata": {},
   "outputs": [
    {
     "name": "stdout",
     "output_type": "stream",
     "text": [
      "Merged list: [1, 2, 3, 4, 5, 6]\n"
     ]
    }
   ],
   "source": [
    "# Define two lists\n",
    "list1 = [1, 2, 3]\n",
    "list2 = [4, 5, 6]\n",
    "\n",
    "# Merge the two lists using the + operator\n",
    "merged_list = list1 + list2\n",
    "\n",
    "# Print the merged list\n",
    "print(\"Merged list:\", merged_list)\n"
   ]
  },
  {
   "cell_type": "code",
   "execution_count": null,
   "id": "1a26c806-ee08-4436-8913-be4a0ffe447b",
   "metadata": {},
   "outputs": [],
   "source": [
    "# Q-11# Multiply all elements in a list by 2."
   ]
  },
  {
   "cell_type": "code",
   "execution_count": 27,
   "id": "7a2896b5-2894-4075-8d71-b82326e97f3e",
   "metadata": {},
   "outputs": [
    {
     "name": "stdout",
     "output_type": "stream",
     "text": [
      "Updated list: [2, 4, 6, 8, 10]\n"
     ]
    }
   ],
   "source": [
    "# Define a list of numbers\n",
    "numbers = [1, 2, 3, 4, 5]\n",
    "\n",
    "# Use a for loop to multiply each element by 2\n",
    "for i in range(len(numbers)):\n",
    "    numbers[i] *= 2\n",
    "\n",
    "# Print the updated list\n",
    "print(\"Updated list:\", numbers)\n"
   ]
  },
  {
   "cell_type": "code",
   "execution_count": null,
   "id": "609bf8da-1327-4384-96e3-cce770b7bb2a",
   "metadata": {},
   "outputs": [],
   "source": [
    "# Q-12# Create a list of prime numbers up to 50."
   ]
  },
  {
   "cell_type": "code",
   "execution_count": 28,
   "id": "5b420dda-672a-42bd-98bd-32377d0d4ed4",
   "metadata": {},
   "outputs": [
    {
     "name": "stdout",
     "output_type": "stream",
     "text": [
      "Prime numbers up to 50: [2, 3, 5, 7, 11, 13, 17, 19, 23, 29, 31, 37, 41, 43, 47]\n"
     ]
    }
   ],
   "source": [
    "# Function to check if a number is prime\n",
    "def is_prime(num):\n",
    "    if num <= 1:\n",
    "        return False\n",
    "    if num <= 3:\n",
    "        return True\n",
    "    if num % 2 == 0 or num % 3 == 0:\n",
    "        return False\n",
    "    i = 5\n",
    "    while i * i <= num:\n",
    "        if num % i == 0 or num % (i + 2) == 0:\n",
    "            return False\n",
    "        i += 6\n",
    "    return True\n",
    "\n",
    "# Create a list of prime numbers up to 50\n",
    "prime_numbers = [num for num in range(2, 51) if is_prime(num)]\n",
    "\n",
    "# Print the list of prime numbers\n",
    "print(\"Prime numbers up to 50:\", prime_numbers)\n"
   ]
  },
  {
   "cell_type": "code",
   "execution_count": null,
   "id": "dd625937-b8d2-4398-b15d-84721e16c532",
   "metadata": {},
   "outputs": [],
   "source": [
    "# Q-13# Create a tuple with integers from 1 to 5."
   ]
  },
  {
   "cell_type": "code",
   "execution_count": 29,
   "id": "f1eb2fd1-cd3f-43c6-a792-5a7ca96434b7",
   "metadata": {},
   "outputs": [
    {
     "name": "stdout",
     "output_type": "stream",
     "text": [
      "(1, 2, 3, 4, 5)\n"
     ]
    }
   ],
   "source": [
    "# Create a tuple with integers from 1 to 5\n",
    "my_tuple = (1, 2, 3, 4, 5)\n",
    "\n",
    "# Print the tuple\n",
    "print(my_tuple)\n"
   ]
  },
  {
   "cell_type": "code",
   "execution_count": 30,
   "id": "c079767e-74b1-44f0-8b7e-cdd66f41ba13",
   "metadata": {},
   "outputs": [],
   "source": [
    "# Q-14# Find the longest string in a tuple of strings."
   ]
  },
  {
   "cell_type": "code",
   "execution_count": 32,
   "id": "363181b5-7cbb-4e8f-8663-108267d24a97",
   "metadata": {},
   "outputs": [
    {
     "name": "stdout",
     "output_type": "stream",
     "text": [
      "The longest string in the tuple is: pwskills\n"
     ]
    }
   ],
   "source": [
    "# Define a tuple of strings\n",
    "my_tuple = (\"pwskills\", \"python\", \"java\", \"sql\", \"sudh\", \"fig\")\n",
    "\n",
    "# Initialize variables to store the longest string and its length\n",
    "longest_string = \"\"\n",
    "max_length = 0\n",
    "\n",
    "# Iterate through the tuple to find the longest string\n",
    "for word in my_tuple:\n",
    "    if len(word) > max_length:\n",
    "        longest_string = word\n",
    "        max_length = len(word)\n",
    "\n",
    "# Print the longest string\n",
    "print(\"The longest string in the tuple is:\", longest_string)\n"
   ]
  },
  {
   "cell_type": "code",
   "execution_count": null,
   "id": "74db5ad4-e4f2-4432-8dac-b78c394d0f29",
   "metadata": {},
   "outputs": [],
   "source": [
    "# Q-15# Find the shortest string in a tuple of strings."
   ]
  },
  {
   "cell_type": "code",
   "execution_count": 33,
   "id": "950a2f4f-f944-47c3-a625-5247f7887b1d",
   "metadata": {},
   "outputs": [
    {
     "name": "stdout",
     "output_type": "stream",
     "text": [
      "The shortest string in the tuple is: fig\n"
     ]
    }
   ],
   "source": [
    "# Define a tuple of strings\n",
    "my_tuple = (\"apple\", \"banana\", \"cherry\", \"date\", \"\", \"fig\")\n",
    "\n",
    "# Initialize variables to store the shortest string and its length\n",
    "shortest_string = my_tuple[0]  # Initialize with the first string\n",
    "min_length = len(my_tuple[0])\n",
    "\n",
    "# Iterate through the tuple to find the shortest string\n",
    "for word in my_tuple:\n",
    "    if len(word) < min_length:\n",
    "        shortest_string = word\n",
    "        min_length = len(word)\n",
    "\n",
    "# Print the shortest string\n",
    "print(\"The shortest string in the tuple is:\", shortest_string)\n"
   ]
  },
  {
   "cell_type": "code",
   "execution_count": null,
   "id": "83615124-927b-49d0-9eb7-7e73bc1c6746",
   "metadata": {},
   "outputs": [],
   "source": []
  },
  {
   "cell_type": "code",
   "execution_count": null,
   "id": "0d66b68a-07a9-4694-84b7-ab5a178ca33c",
   "metadata": {},
   "outputs": [],
   "source": []
  }
 ],
 "metadata": {
  "kernelspec": {
   "display_name": "Python 3 (ipykernel)",
   "language": "python",
   "name": "python3"
  },
  "language_info": {
   "codemirror_mode": {
    "name": "ipython",
    "version": 3
   },
   "file_extension": ".py",
   "mimetype": "text/x-python",
   "name": "python",
   "nbconvert_exporter": "python",
   "pygments_lexer": "ipython3",
   "version": "3.10.8"
  }
 },
 "nbformat": 4,
 "nbformat_minor": 5
}
